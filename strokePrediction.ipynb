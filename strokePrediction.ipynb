{
  "nbformat": 4,
  "nbformat_minor": 0,
  "metadata": {
    "colab": {
      "name": "Untitled19.ipynb",
      "provenance": [],
      "authorship_tag": "ABX9TyPopBWORIbe7JZinEzs4ZvH",
      "include_colab_link": true
    },
    "kernelspec": {
      "name": "python3",
      "display_name": "Python 3"
    },
    "language_info": {
      "name": "python"
    }
  },
  "cells": [
    {
      "cell_type": "markdown",
      "metadata": {
        "id": "view-in-github",
        "colab_type": "text"
      },
      "source": [
        "<a href=\"https://colab.research.google.com/github/seawavve/kaggle_wavve/blob/main/strokePrediction.ipynb\" target=\"_parent\"><img src=\"https://colab.research.google.com/assets/colab-badge.svg\" alt=\"Open In Colab\"/></a>"
      ]
    },
    {
      "cell_type": "markdown",
      "metadata": {
        "id": "EkY77KfAWT-v"
      },
      "source": [
        "# Setup"
      ]
    },
    {
      "cell_type": "code",
      "metadata": {
        "id": "Fzmhckg0QmMn"
      },
      "source": [
        "import seaborn as sns\n",
        "import numpy as np # linear algebra\n",
        "import pandas as pd # data processing, CSV file I/O (e.g. pd.read_csv)\n",
        "import matplotlib.pyplot as plt\n",
        "from sklearn.model_selection import train_test_split\n",
        "from sklearn.preprocessing import StandardScaler \n",
        "from sklearn.svm import SVC\n",
        "from sklearn.linear_model import LogisticRegression\n",
        "import xgboost as xgb\n",
        "from sklearn.metrics import accuracy_score\n",
        "from sklearn.neighbors import KNeighborsClassifier  \n",
        "from sklearn.ensemble import RandomForestRegressor\n",
        "from sklearn.neighbors import KNeighborsClassifier\n",
        "from sklearn.naive_bayes import BernoulliNB\n",
        "from sklearn.naive_bayes import GaussianNB\n",
        "from sklearn.metrics import confusion_matrix"
      ],
      "execution_count": 1,
      "outputs": []
    },
    {
      "cell_type": "markdown",
      "metadata": {
        "id": "JWXsUAysWZGx"
      },
      "source": [
        "# Data Set"
      ]
    },
    {
      "cell_type": "code",
      "metadata": {
        "colab": {
          "base_uri": "https://localhost:8080/"
        },
        "id": "8infknZ2QoeR",
        "outputId": "f4c8853d-24a8-4e93-8225-ffa533d31bc3"
      },
      "source": [
        "stroke=pd.read_csv('healthcare-dataset-stroke-data.csv')\n",
        "print(stroke.head())\n",
        "stroke.shape"
      ],
      "execution_count": 2,
      "outputs": [
        {
          "output_type": "stream",
          "text": [
            "      id  gender   age  ...   bmi   smoking_status stroke\n",
            "0   9046    Male  67.0  ...  36.6  formerly smoked      1\n",
            "1  51676  Female  61.0  ...   NaN     never smoked      1\n",
            "2  31112    Male  80.0  ...  32.5     never smoked      1\n",
            "3  60182  Female  49.0  ...  34.4           smokes      1\n",
            "4   1665  Female  79.0  ...  24.0     never smoked      1\n",
            "\n",
            "[5 rows x 12 columns]\n"
          ],
          "name": "stdout"
        },
        {
          "output_type": "execute_result",
          "data": {
            "text/plain": [
              "(5110, 12)"
            ]
          },
          "metadata": {
            "tags": []
          },
          "execution_count": 2
        }
      ]
    },
    {
      "cell_type": "code",
      "metadata": {
        "colab": {
          "base_uri": "https://localhost:8080/"
        },
        "id": "4XNiCvecQohU",
        "outputId": "6cea2075-732d-4d30-a1b5-12c71da7ce51"
      },
      "source": [
        "stroke.info()"
      ],
      "execution_count": 14,
      "outputs": [
        {
          "output_type": "stream",
          "text": [
            "<class 'pandas.core.frame.DataFrame'>\n",
            "Int64Index: 5110 entries, 0 to 5109\n",
            "Data columns (total 12 columns):\n",
            " #   Column             Non-Null Count  Dtype  \n",
            "---  ------             --------------  -----  \n",
            " 0   id                 5110 non-null   int64  \n",
            " 1   gender             5110 non-null   int64  \n",
            " 2   age                5110 non-null   float64\n",
            " 3   hypertension       5110 non-null   int64  \n",
            " 4   heart_disease      5110 non-null   int64  \n",
            " 5   ever_married       5110 non-null   object \n",
            " 6   work_type          5110 non-null   object \n",
            " 7   Residence_type     5110 non-null   object \n",
            " 8   avg_glucose_level  5110 non-null   float64\n",
            " 9   bmi                4909 non-null   float64\n",
            " 10  smoking_status     5110 non-null   object \n",
            " 11  stroke             5110 non-null   int64  \n",
            "dtypes: float64(3), int64(5), object(4)\n",
            "memory usage: 679.0+ KB\n"
          ],
          "name": "stdout"
        }
      ]
    },
    {
      "cell_type": "code",
      "metadata": {
        "colab": {
          "base_uri": "https://localhost:8080/"
        },
        "id": "BtR88qKtQoke",
        "outputId": "d641e1f0-4757-4dc0-d084-51fdc98bebd1"
      },
      "source": [
        "stroke.drop_duplicates(inplace=True)\n",
        "stroke.shape"
      ],
      "execution_count": 4,
      "outputs": [
        {
          "output_type": "execute_result",
          "data": {
            "text/plain": [
              "(5110, 12)"
            ]
          },
          "metadata": {
            "tags": []
          },
          "execution_count": 4
        }
      ]
    },
    {
      "cell_type": "code",
      "metadata": {
        "colab": {
          "base_uri": "https://localhost:8080/",
          "height": 279
        },
        "id": "CkRO0r6LQomw",
        "outputId": "49f26fa4-3d73-4068-e5bc-af77843eb572"
      },
      "source": [
        "x=(stroke.gender.value_counts())\n",
        "p = sns.countplot(data=stroke, x=\"gender\")\n",
        "plt.show()"
      ],
      "execution_count": 6,
      "outputs": [
        {
          "output_type": "display_data",
          "data": {
            "image/png": "[encoded data removed]",
            "text/plain": [
              "<Figure size 432x288 with 1 Axes>"
            ]
          },
          "metadata": {
            "tags": [],
            "needs_background": "light"
          }
        }
      ]
    },
    {
      "cell_type": "code",
      "metadata": {
        "id": "LDUDIxG9RaCZ"
      },
      "source": [
        "#DataProcessing\n",
        "#gender\n",
        "ser=stroke['gender']\n",
        "ser.replace('Male',0, inplace=True)\n",
        "ser.replace('Female',1, inplace=True)\n",
        "ser.replace('Other',2, inplace=True)\n",
        "stroke['gender']=ser"
      ],
      "execution_count": 13,
      "outputs": []
    },
    {
      "cell_type": "code",
      "metadata": {
        "colab": {
          "base_uri": "https://localhost:8080/",
          "height": 283
        },
        "id": "gn-c1HjuTJ9o",
        "outputId": "6a3d0bfe-73b3-4144-e6b5-43f91b5fa81f"
      },
      "source": [
        "x=(stroke.ever_married.value_counts())\n",
        "p = sns.countplot(data=stroke, x=\"ever_married\")\n",
        "plt.show()"
      ],
      "execution_count": 15,
      "outputs": [
        {
          "output_type": "display_data",
          "data": {
            "image/png": "[encoded data removed]",
            "text/plain": [
              "<Figure size 432x288 with 1 Axes>"
            ]
          },
          "metadata": {
            "tags": [],
            "needs_background": "light"
          }
        }
      ]
    },
    {
      "cell_type": "code",
      "metadata": {
        "id": "QZEFMgf7TB8_"
      },
      "source": [
        "#evermarried\n",
        "ser=stroke['ever_married']\n",
        "ser.replace('Yes',1, inplace=True)\n",
        "ser.replace('No',0, inplace=True)\n",
        "stroke['ever_married']=ser"
      ],
      "execution_count": 16,
      "outputs": []
    },
    {
      "cell_type": "code",
      "metadata": {
        "colab": {
          "base_uri": "https://localhost:8080/",
          "height": 281
        },
        "id": "wR03Om-9TB_t",
        "outputId": "d1a45ed9-cce0-418a-ead7-171ee6e273f0"
      },
      "source": [
        "x=(stroke.work_type.value_counts())\n",
        "p = sns.countplot(data=stroke, x=\"work_type\")\n",
        "plt.show()"
      ],
      "execution_count": 18,
      "outputs": [
        {
          "output_type": "display_data",
          "data": {
            "image/png": "[encoded data removed]",
            "text/plain": [
              "<Figure size 432x288 with 1 Axes>"
            ]
          },
          "metadata": {
            "tags": [],
            "needs_background": "light"
          }
        }
      ]
    },
    {
      "cell_type": "code",
      "metadata": {
        "id": "YmJf7SjLTCC5"
      },
      "source": [
        "#work_type\n",
        "ser=stroke['work_type']\n",
        "ser.replace('Private',0, inplace=True)\n",
        "ser.replace('Self-employed',1, inplace=True)\n",
        "ser.replace('Govt_job',2, inplace=True)\n",
        "ser.replace('children',3, inplace=True)\n",
        "ser.replace('Never_worked',4, inplace=True)\n",
        "stroke['work_type']=ser"
      ],
      "execution_count": 19,
      "outputs": []
    },
    {
      "cell_type": "code",
      "metadata": {
        "id": "-1i9yhjdUHUI"
      },
      "source": [
        "#Residence_type\n",
        "ser=stroke['Residence_type']\n",
        "ser.replace('Rural',0, inplace=True)\n",
        "ser.replace('Urban',1, inplace=True)\n",
        "stroke['Residence_type']=ser"
      ],
      "execution_count": 20,
      "outputs": []
    },
    {
      "cell_type": "code",
      "metadata": {
        "id": "loUoEyynUa1Z"
      },
      "source": [
        "#smoking_status\n",
        "ser=stroke['smoking_status']\n",
        "ser.replace('formerly smoked',0, inplace=True)\n",
        "ser.replace('never smoked',1, inplace=True)\n",
        "ser.replace('smokes',2, inplace=True)\n",
        "ser.replace('Unknown',3, inplace=True)\n",
        "stroke['smoking_status']=ser"
      ],
      "execution_count": 21,
      "outputs": []
    },
    {
      "cell_type": "code",
      "metadata": {
        "colab": {
          "base_uri": "https://localhost:8080/",
          "height": 439
        },
        "id": "boFFKb2zUtRR",
        "outputId": "edbe42e0-5fe0-4c73-92e2-f06758c6206f"
      },
      "source": [
        "ser=stroke['bmi']\n",
        "ser.replace(np.nan,0,inplace=True)\n",
        "stroke['bmi']=ser\n",
        "stroke"
      ],
      "execution_count": 23,
      "outputs": [
        {
          "output_type": "execute_result",
          "data": {
            "text/html": [
              "<div>\n",
              "<style scoped>\n",
              "    .dataframe tbody tr th:only-of-type {\n",
              "        vertical-align: middle;\n",
              "    }\n",
              "\n",
              "    .dataframe tbody tr th {\n",
              "        vertical-align: top;\n",
              "    }\n",
              "\n",
              "    .dataframe thead th {\n",
              "        text-align: right;\n",
              "    }\n",
              "</style>\n",
              "<table border=\"1\" class=\"dataframe\">\n",
              "  <thead>\n",
              "    <tr style=\"text-align: right;\">\n",
              "      <th></th>\n",
              "      <th>id</th>\n",
              "      <th>gender</th>\n",
              "      <th>age</th>\n",
              "      <th>hypertension</th>\n",
              "      <th>heart_disease</th>\n",
              "      <th>ever_married</th>\n",
              "      <th>work_type</th>\n",
              "      <th>Residence_type</th>\n",
              "      <th>avg_glucose_level</th>\n",
              "      <th>bmi</th>\n",
              "      <th>smoking_status</th>\n",
              "      <th>stroke</th>\n",
              "    </tr>\n",
              "  </thead>\n",
              "  <tbody>\n",
              "    <tr>\n",
              "      <th>0</th>\n",
              "      <td>9046</td>\n",
              "      <td>0</td>\n",
              "      <td>67.0</td>\n",
              "      <td>0</td>\n",
              "      <td>1</td>\n",
              "      <td>1</td>\n",
              "      <td>0</td>\n",
              "      <td>1</td>\n",
              "      <td>228.69</td>\n",
              "      <td>36.6</td>\n",
              "      <td>0</td>\n",
              "      <td>1</td>\n",
              "    </tr>\n",
              "    <tr>\n",
              "      <th>1</th>\n",
              "      <td>51676</td>\n",
              "      <td>1</td>\n",
              "      <td>61.0</td>\n",
              "      <td>0</td>\n",
              "      <td>0</td>\n",
              "      <td>1</td>\n",
              "      <td>1</td>\n",
              "      <td>0</td>\n",
              "      <td>202.21</td>\n",
              "      <td>0.0</td>\n",
              "      <td>1</td>\n",
              "      <td>1</td>\n",
              "    </tr>\n",
              "    <tr>\n",
              "      <th>2</th>\n",
              "      <td>31112</td>\n",
              "      <td>0</td>\n",
              "      <td>80.0</td>\n",
              "      <td>0</td>\n",
              "      <td>1</td>\n",
              "      <td>1</td>\n",
              "      <td>0</td>\n",
              "      <td>0</td>\n",
              "      <td>105.92</td>\n",
              "      <td>32.5</td>\n",
              "      <td>1</td>\n",
              "      <td>1</td>\n",
              "    </tr>\n",
              "    <tr>\n",
              "      <th>3</th>\n",
              "      <td>60182</td>\n",
              "      <td>1</td>\n",
              "      <td>49.0</td>\n",
              "      <td>0</td>\n",
              "      <td>0</td>\n",
              "      <td>1</td>\n",
              "      <td>0</td>\n",
              "      <td>1</td>\n",
              "      <td>171.23</td>\n",
              "      <td>34.4</td>\n",
              "      <td>2</td>\n",
              "      <td>1</td>\n",
              "    </tr>\n",
              "    <tr>\n",
              "      <th>4</th>\n",
              "      <td>1665</td>\n",
              "      <td>1</td>\n",
              "      <td>79.0</td>\n",
              "      <td>1</td>\n",
              "      <td>0</td>\n",
              "      <td>1</td>\n",
              "      <td>1</td>\n",
              "      <td>0</td>\n",
              "      <td>174.12</td>\n",
              "      <td>24.0</td>\n",
              "      <td>1</td>\n",
              "      <td>1</td>\n",
              "    </tr>\n",
              "    <tr>\n",
              "      <th>...</th>\n",
              "      <td>...</td>\n",
              "      <td>...</td>\n",
              "      <td>...</td>\n",
              "      <td>...</td>\n",
              "      <td>...</td>\n",
              "      <td>...</td>\n",
              "      <td>...</td>\n",
              "      <td>...</td>\n",
              "      <td>...</td>\n",
              "      <td>...</td>\n",
              "      <td>...</td>\n",
              "      <td>...</td>\n",
              "    </tr>\n",
              "    <tr>\n",
              "      <th>5105</th>\n",
              "      <td>18234</td>\n",
              "      <td>1</td>\n",
              "      <td>80.0</td>\n",
              "      <td>1</td>\n",
              "      <td>0</td>\n",
              "      <td>1</td>\n",
              "      <td>0</td>\n",
              "      <td>1</td>\n",
              "      <td>83.75</td>\n",
              "      <td>0.0</td>\n",
              "      <td>1</td>\n",
              "      <td>0</td>\n",
              "    </tr>\n",
              "    <tr>\n",
              "      <th>5106</th>\n",
              "      <td>44873</td>\n",
              "      <td>1</td>\n",
              "      <td>81.0</td>\n",
              "      <td>0</td>\n",
              "      <td>0</td>\n",
              "      <td>1</td>\n",
              "      <td>1</td>\n",
              "      <td>1</td>\n",
              "      <td>125.20</td>\n",
              "      <td>40.0</td>\n",
              "      <td>1</td>\n",
              "      <td>0</td>\n",
              "    </tr>\n",
              "    <tr>\n",
              "      <th>5107</th>\n",
              "      <td>19723</td>\n",
              "      <td>1</td>\n",
              "      <td>35.0</td>\n",
              "      <td>0</td>\n",
              "      <td>0</td>\n",
              "      <td>1</td>\n",
              "      <td>1</td>\n",
              "      <td>0</td>\n",
              "      <td>82.99</td>\n",
              "      <td>30.6</td>\n",
              "      <td>1</td>\n",
              "      <td>0</td>\n",
              "    </tr>\n",
              "    <tr>\n",
              "      <th>5108</th>\n",
              "      <td>37544</td>\n",
              "      <td>0</td>\n",
              "      <td>51.0</td>\n",
              "      <td>0</td>\n",
              "      <td>0</td>\n",
              "      <td>1</td>\n",
              "      <td>0</td>\n",
              "      <td>0</td>\n",
              "      <td>166.29</td>\n",
              "      <td>25.6</td>\n",
              "      <td>0</td>\n",
              "      <td>0</td>\n",
              "    </tr>\n",
              "    <tr>\n",
              "      <th>5109</th>\n",
              "      <td>44679</td>\n",
              "      <td>1</td>\n",
              "      <td>44.0</td>\n",
              "      <td>0</td>\n",
              "      <td>0</td>\n",
              "      <td>1</td>\n",
              "      <td>2</td>\n",
              "      <td>1</td>\n",
              "      <td>85.28</td>\n",
              "      <td>26.2</td>\n",
              "      <td>3</td>\n",
              "      <td>0</td>\n",
              "    </tr>\n",
              "  </tbody>\n",
              "</table>\n",
              "<p>5110 rows × 12 columns</p>\n",
              "</div>"
            ],
            "text/plain": [
              "         id  gender   age  ...   bmi  smoking_status  stroke\n",
              "0      9046       0  67.0  ...  36.6               0       1\n",
              "1     51676       1  61.0  ...   0.0               1       1\n",
              "2     31112       0  80.0  ...  32.5               1       1\n",
              "3     60182       1  49.0  ...  34.4               2       1\n",
              "4      1665       1  79.0  ...  24.0               1       1\n",
              "...     ...     ...   ...  ...   ...             ...     ...\n",
              "5105  18234       1  80.0  ...   0.0               1       0\n",
              "5106  44873       1  81.0  ...  40.0               1       0\n",
              "5107  19723       1  35.0  ...  30.6               1       0\n",
              "5108  37544       0  51.0  ...  25.6               0       0\n",
              "5109  44679       1  44.0  ...  26.2               3       0\n",
              "\n",
              "[5110 rows x 12 columns]"
            ]
          },
          "metadata": {
            "tags": []
          },
          "execution_count": 23
        }
      ]
    },
    {
      "cell_type": "code",
      "metadata": {
        "colab": {
          "base_uri": "https://localhost:8080/"
        },
        "id": "Fg4bhZXJVLL-",
        "outputId": "275957e5-e9b3-407a-cdf9-8a4dd2331821"
      },
      "source": [
        "x = stroke.iloc[:, 1:-1].values\n",
        "y = stroke.iloc[:, -1].values\n",
        "x,y"
      ],
      "execution_count": 25,
      "outputs": [
        {
          "output_type": "execute_result",
          "data": {
            "text/plain": [
              "(array([[  0.  ,  67.  ,   0.  , ..., 228.69,  36.6 ,   0.  ],\n",
              "        [  1.  ,  61.  ,   0.  , ..., 202.21,   0.  ,   1.  ],\n",
              "        [  0.  ,  80.  ,   0.  , ..., 105.92,  32.5 ,   1.  ],\n",
              "        ...,\n",
              "        [  1.  ,  35.  ,   0.  , ...,  82.99,  30.6 ,   1.  ],\n",
              "        [  0.  ,  51.  ,   0.  , ..., 166.29,  25.6 ,   0.  ],\n",
              "        [  1.  ,  44.  ,   0.  , ...,  85.28,  26.2 ,   3.  ]]),\n",
              " array([1, 1, 1, ..., 0, 0, 0]))"
            ]
          },
          "metadata": {
            "tags": []
          },
          "execution_count": 25
        }
      ]
    },
    {
      "cell_type": "code",
      "metadata": {
        "id": "5pBFzZDCVaOm"
      },
      "source": [
        "x_train, x_test, y_train, y_test = train_test_split(x, y, test_size= 0.2, random_state= 0)"
      ],
      "execution_count": 26,
      "outputs": []
    },
    {
      "cell_type": "code",
      "metadata": {
        "colab": {
          "base_uri": "https://localhost:8080/"
        },
        "id": "O3ktPpGiVaRO",
        "outputId": "7de0f7b0-77df-45b8-b792-7221bc1482eb"
      },
      "source": [
        "print('Shape for training data', x_train.shape, y_train.shape)\n",
        "print('Shape for testing data', x_test.shape, y_test.shape)"
      ],
      "execution_count": 27,
      "outputs": [
        {
          "output_type": "stream",
          "text": [
            "Shape for training data (4088, 10) (4088,)\n",
            "Shape for testing data (1022, 10) (1022,)\n"
          ],
          "name": "stdout"
        }
      ]
    },
    {
      "cell_type": "markdown",
      "metadata": {
        "id": "wKQgxo4MWe6I"
      },
      "source": [
        "# Scaling"
      ]
    },
    {
      "cell_type": "code",
      "metadata": {
        "id": "fu5wE0plVaUK"
      },
      "source": [
        "scaler = StandardScaler()\n",
        "x_train = scaler.fit_transform(x_train)\n",
        "x_test = scaler.transform(x_test)"
      ],
      "execution_count": 28,
      "outputs": []
    },
    {
      "cell_type": "markdown",
      "metadata": {
        "id": "pn3AmFYGWjD6"
      },
      "source": [
        "# Experiment(LogisticRegression,KNN, ...)"
      ]
    },
    {
      "cell_type": "code",
      "metadata": {
        "colab": {
          "base_uri": "https://localhost:8080/"
        },
        "id": "63CfHQMaVaW1",
        "outputId": "125ed1c8-1bbb-474b-80da-3fb17be1d57f"
      },
      "source": [
        "model = LogisticRegression()\n",
        "model.fit(x_train, y_train)\n",
        "predicted=model.predict(x_test)\n",
        "conf = confusion_matrix(y_test, predicted)\n",
        "print (\"Confusion Matrix : \\n\", conf)\n",
        "print (\"The accuracy of Logistic Regression is : \", accuracy_score(y_test, predicted)*100, \"%\")"
      ],
      "execution_count": 29,
      "outputs": [
        {
          "output_type": "stream",
          "text": [
            "Confusion Matrix : \n",
            " [[967   1]\n",
            " [ 54   0]]\n",
            "The accuracy of Logistic Regression is :  94.6183953033268 %\n"
          ],
          "name": "stdout"
        }
      ]
    },
    {
      "cell_type": "code",
      "metadata": {
        "colab": {
          "base_uri": "https://localhost:8080/"
        },
        "id": "Fo7uEVJgVo-9",
        "outputId": "20464b1e-94ad-41d0-82af-8bd34778940c"
      },
      "source": [
        "model = GaussianNB()\n",
        "model.fit(x_train, y_train)\n",
        "  \n",
        "predicted = model.predict(x_test)\n",
        "  \n",
        "print(\"The accuracy of Gaussian Naive Bayes model is : \", accuracy_score(y_test, predicted)*100, \"%\")"
      ],
      "execution_count": 30,
      "outputs": [
        {
          "output_type": "stream",
          "text": [
            "The accuracy of Gaussian Naive Bayes model is :  87.279843444227 %\n"
          ],
          "name": "stdout"
        }
      ]
    },
    {
      "cell_type": "code",
      "metadata": {
        "colab": {
          "base_uri": "https://localhost:8080/"
        },
        "id": "F58bFtbcVpCP",
        "outputId": "ad671d3b-baca-4e02-e6fb-d35edda6ca85"
      },
      "source": [
        "model = BernoulliNB()\n",
        "model.fit(x_train, y_train)\n",
        "  \n",
        "predicted = model.predict(x_test)\n",
        "  \n",
        "print(\"The accuracy of Gaussian Naive Bayes model is : \", accuracy_score(y_test, predicted)*100, \"%\")"
      ],
      "execution_count": 31,
      "outputs": [
        {
          "output_type": "stream",
          "text": [
            "The accuracy of Gaussian Naive Bayes model is :  94.12915851272015 %\n"
          ],
          "name": "stdout"
        }
      ]
    },
    {
      "cell_type": "code",
      "metadata": {
        "colab": {
          "base_uri": "https://localhost:8080/"
        },
        "id": "gx1k9WnDVrLd",
        "outputId": "9c6c12ba-08e4-45b7-c020-baa4e65a222d"
      },
      "source": [
        "model = SVC()\n",
        "model.fit(x_train, y_train)\n",
        "  \n",
        "predicted = model.predict(x_test)\n",
        "print(\"The accuracy of SVM is : \", accuracy_score(y_test, predicted)*100, \"%\")"
      ],
      "execution_count": 32,
      "outputs": [
        {
          "output_type": "stream",
          "text": [
            "The accuracy of SVM is :  94.71624266144813 %\n"
          ],
          "name": "stdout"
        }
      ]
    },
    {
      "cell_type": "code",
      "metadata": {
        "colab": {
          "base_uri": "https://localhost:8080/"
        },
        "id": "A7jv8ul8VpFs",
        "outputId": "e9aaf4fb-dd1e-48c4-e84d-060ba914b578"
      },
      "source": [
        "model = RandomForestRegressor(n_estimators = 100, random_state = 0)  \n",
        "model.fit(x_train, y_train)  \n",
        "predicted = model.predict(x_test)\n",
        "print(\"The accuracy of Random Forest is : \", accuracy_score(y_test, predicted.round())*100, \"%\")"
      ],
      "execution_count": 33,
      "outputs": [
        {
          "output_type": "stream",
          "text": [
            "The accuracy of Random Forest is :  94.71624266144813 %\n"
          ],
          "name": "stdout"
        }
      ]
    },
    {
      "cell_type": "code",
      "metadata": {
        "colab": {
          "base_uri": "https://localhost:8080/"
        },
        "id": "E2x4xa-4V0rK",
        "outputId": "42edb68e-c79e-4b0a-c7ae-93f0f93f33a4"
      },
      "source": [
        "model = KNeighborsClassifier(n_neighbors = 1)  \n",
        "model.fit(x_train, y_train)\n",
        "predicted = model.predict(x_test)\n",
        "  \n",
        "\n",
        "print(confusion_matrix(y_test, predicted))\n",
        "print(\"The accuracy of KNN is : \", accuracy_score(y_test, predicted.round())*100, \"%\")\n"
      ],
      "execution_count": 34,
      "outputs": [
        {
          "output_type": "stream",
          "text": [
            "[[931  37]\n",
            " [ 47   7]]\n",
            "The accuracy of KNN is :  91.78082191780823 %\n"
          ],
          "name": "stdout"
        }
      ]
    },
    {
      "cell_type": "code",
      "metadata": {
        "colab": {
          "base_uri": "https://localhost:8080/",
          "height": 421
        },
        "id": "JYFRzog9V0uV",
        "outputId": "5c6d4559-54d3-44ae-96c3-514d7f40fc5f"
      },
      "source": [
        "error_rate = []\n",
        "  \n",
        "for i in range(1, 40):\n",
        "      \n",
        "    model = KNeighborsClassifier(n_neighbors = i)\n",
        "    model.fit(x_train, y_train)\n",
        "    pred_i = model.predict(x_test)\n",
        "    error_rate.append(np.mean(pred_i != y_test))\n",
        "  \n",
        "plt.figure(figsize =(10, 6))\n",
        "plt.plot(range(1, 40), error_rate, color ='blue',\n",
        "                linestyle ='dashed', marker ='o',\n",
        "         markerfacecolor ='red', markersize = 10)\n",
        "  \n",
        "plt.title('Error Rate vs. K Value')\n",
        "plt.xlabel('K')\n",
        "plt.ylabel('Error Rate')"
      ],
      "execution_count": 35,
      "outputs": [
        {
          "output_type": "execute_result",
          "data": {
            "text/plain": [
              "Text(0, 0.5, 'Error Rate')"
            ]
          },
          "metadata": {
            "tags": []
          },
          "execution_count": 35
        },
        {
          "output_type": "display_data",
          "data": {
            "image/png": "[encoded data removed]",
            "text/plain": [
              "<Figure size 720x432 with 1 Axes>"
            ]
          },
          "metadata": {
            "tags": [],
            "needs_background": "light"
          }
        }
      ]
    },
    {
      "cell_type": "code",
      "metadata": {
        "colab": {
          "base_uri": "https://localhost:8080/"
        },
        "id": "hhImOemIV0zJ",
        "outputId": "75deb479-26b0-4be9-e5d7-5932d9508e6b"
      },
      "source": [
        "#window 9 is best\n",
        "model = KNeighborsClassifier(n_neighbors = 9)\n",
        "  \n",
        "model.fit(x_train, y_train)\n",
        "predicted = model.predict(x_test)\n",
        "  \n",
        "\n",
        "from sklearn.metrics import classification_report, confusion_matrix\n",
        "print(confusion_matrix(y_test, predicted))\n",
        "\n",
        "print(\"The accuracy of KNN is : \", accuracy_score(y_test, predicted.round())*100, \"%\")"
      ],
      "execution_count": 46,
      "outputs": [
        {
          "output_type": "stream",
          "text": [
            "[[967   1]\n",
            " [ 54   0]]\n",
            "The accuracy of KNN is :  94.6183953033268 %\n"
          ],
          "name": "stdout"
        }
      ]
    },
    {
      "cell_type": "code",
      "metadata": {
        "colab": {
          "base_uri": "https://localhost:8080/"
        },
        "id": "_yHpgiGIV02m",
        "outputId": "9ef39645-34d1-462d-8c1b-4efcd0309d13"
      },
      "source": [
        "model = xgb.XGBClassifier(use_label_encoder=False)\n",
        "model.fit(x_train, y_train)\n",
        "   \n",
        "predicted = model.predict(x_test)\n",
        "   \n",
        "cm = confusion_matrix(y_test, predicted)\n",
        "print()\n",
        "print (\"The accuracy of X Gradient Boosting is : \", accuracy_score(y_test, predicted)*100, \"%\")"
      ],
      "execution_count": 37,
      "outputs": [
        {
          "output_type": "stream",
          "text": [
            "\n",
            "The accuracy of X Gradient Boosting is :  94.6183953033268 %\n"
          ],
          "name": "stdout"
        }
      ]
    }
  ]
}